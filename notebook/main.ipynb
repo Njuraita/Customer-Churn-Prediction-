{
 "cells": [
  {
   "cell_type": "markdown",
   "metadata": {},
   "source": [
    "# Customer Churn Predictor"
   ]
  },
  {
   "cell_type": "markdown",
   "metadata": {},
   "source": [
    "### Business Understanding\n",
    "\n",
    "#### **Problem Statement** \n",
    "\n",
    "#### Stakeholder:\n",
    "     - \n",
    "     - \n",
    "     - \n",
    "#### **Key Metrics and Success Criteria**\n",
    "     -The Model should have an accuracy score of 85% (On balanced data)\n",
    "     -Good models are expected to have an accuracy score of >0.80 or 80%\n",
    "     -An ROC Curve of 80% or 0.80 is ideal for the model to generate well \n",
    "     -There should be atleast 4 baseline models \n",
    "     -All hyperparameter tuning should only be applied if it exceed it F1 score \n",
    "\n",
    "#### Features\n",
    "    - \n",
    "    - \n",
    "    - \n",
    "    - \n",
    "    - \n",
    "    - \n",
    "    - \n",
    "    - \n",
    "    - \n",
    "\n",
    "#### **Null Hypothesis**\n",
    "\n",
    "#### **Alternative Hpothesis**\n",
    "\n",
    "\n",
    "#### Analytical Questions\n",
    "    1. What is the Churn percentage based on\n",
    "    2. \n",
    "    3.\n",
    "    4.\n",
    "\n",
    "\n",
    "    \n",
    "    \n"
   ]
  },
  {
   "cell_type": "markdown",
   "metadata": {},
   "source": [
    "### Data Understanding"
   ]
  },
  {
   "cell_type": "markdown",
   "metadata": {},
   "source": [
    "#### **Importations**"
   ]
  },
  {
   "cell_type": "code",
   "execution_count": 3,
   "metadata": {},
   "outputs": [],
   "source": [
    "# Data Manipulation Packages \n",
    "\n",
    "import pandas as pd\n",
    "import numpy as np \n",
    "import matplotlib.pyplot as plt\n",
    "import seaborn as sns\n",
    "import pyodbc\n",
    "from dotenv import dotenv_values\n",
    "import warnings\n",
    "warnings.filterwarnings('ignore')\n"
   ]
  },
  {
   "cell_type": "markdown",
   "metadata": {},
   "source": [
    "#### **Load Datasets**"
   ]
  },
  {
   "cell_type": "code",
   "execution_count": null,
   "metadata": {},
   "outputs": [],
   "source": []
  },
  {
   "cell_type": "markdown",
   "metadata": {},
   "source": [
    "#### **"
   ]
  },
  {
   "cell_type": "code",
   "execution_count": null,
   "metadata": {},
   "outputs": [],
   "source": []
  },
  {
   "cell_type": "markdown",
   "metadata": {},
   "source": [
    "#### Key Insights \n",
    "    - \n",
    "    - \n",
    "    - "
   ]
  },
  {
   "cell_type": "markdown",
   "metadata": {},
   "source": [
    "### Data Preparation"
   ]
  },
  {
   "cell_type": "markdown",
   "metadata": {},
   "source": [
    "### Modeling And Evaluation"
   ]
  },
  {
   "cell_type": "code",
   "execution_count": null,
   "metadata": {},
   "outputs": [],
   "source": []
  }
 ],
 "metadata": {
  "kernelspec": {
   "display_name": "virtual",
   "language": "python",
   "name": "python3"
  },
  "language_info": {
   "codemirror_mode": {
    "name": "ipython",
    "version": 3
   },
   "file_extension": ".py",
   "mimetype": "text/x-python",
   "name": "python",
   "nbconvert_exporter": "python",
   "pygments_lexer": "ipython3",
   "version": "3.10.9"
  }
 },
 "nbformat": 4,
 "nbformat_minor": 2
}
